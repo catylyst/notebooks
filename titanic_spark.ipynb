{
  "nbformat": 4,
  "nbformat_minor": 0,
  "metadata": {
    "colab": {
      "provenance": [],
      "authorship_tag": "ABX9TyPIw8UVG4fYstKigKyoVIR5",
      "include_colab_link": true
    },
    "kernelspec": {
      "name": "python3",
      "display_name": "Python 3"
    },
    "language_info": {
      "name": "python"
    }
  },
  "cells": [
    {
      "cell_type": "markdown",
      "metadata": {
        "id": "view-in-github",
        "colab_type": "text"
      },
      "source": [
        "<a href=\"https://colab.research.google.com/github/catylyst/notebooks/blob/master/titanic_spark.ipynb\" target=\"_parent\"><img src=\"https://colab.research.google.com/assets/colab-badge.svg\" alt=\"Open In Colab\"/></a>"
      ]
    },
    {
      "cell_type": "code",
      "execution_count": 1,
      "metadata": {
        "id": "fMgfm9MtVRyv"
      },
      "outputs": [],
      "source": [
        "!apt-get install openjdk-8-jdk-headless -qq > /dev/null"
      ]
    },
    {
      "cell_type": "code",
      "source": [
        "# !pip install  --upgrade py4j"
      ],
      "metadata": {
        "id": "cbd5sGepTk4D"
      },
      "execution_count": 2,
      "outputs": []
    },
    {
      "cell_type": "code",
      "source": [
        "!java -version"
      ],
      "metadata": {
        "colab": {
          "base_uri": "https://localhost:8080/"
        },
        "id": "J0lAtpO1Toe8",
        "outputId": "f80fcd65-265d-4849-f357-326ed39ef490"
      },
      "execution_count": 3,
      "outputs": [
        {
          "output_type": "stream",
          "name": "stdout",
          "text": [
            "openjdk version \"11.0.21\" 2023-10-17\n",
            "OpenJDK Runtime Environment (build 11.0.21+9-post-Ubuntu-0ubuntu122.04)\n",
            "OpenJDK 64-Bit Server VM (build 11.0.21+9-post-Ubuntu-0ubuntu122.04, mixed mode, sharing)\n"
          ]
        }
      ]
    },
    {
      "cell_type": "code",
      "source": [
        "# Download Spark\n",
        "!wget -q https://dlcdn.apache.org/spark/spark-3.5.0/spark-3.5.0-bin-hadoop3.tgz\n",
        "\n",
        "# Unzip the file\n",
        "!tar xf spark-3.5.0-bin-hadoop3.tgz"
      ],
      "metadata": {
        "id": "1GoJsgbfVflA"
      },
      "execution_count": 4,
      "outputs": []
    },
    {
      "cell_type": "code",
      "source": [
        "# # Download Spark\n",
        "# !wget -q https://www.apache.org/dyn/closer.lua/spark/spark-3.2.4/spark-3.2.4-bin-hadoop2.7.tgz\n",
        "\n",
        "# # Unzip the file\n",
        "# !spark-3.2.4-bin-hadoop2.7.tgz"
      ],
      "metadata": {
        "id": "Z2ltLVhYVYm9"
      },
      "execution_count": 5,
      "outputs": []
    },
    {
      "cell_type": "code",
      "source": [
        "import os\n",
        "import sys\n",
        "\n",
        "os.environ[\"JAVA_HOME\"] = \"/usr/lib/jvm/java-8-openjdk-amd64\"\n",
        "os.environ[\"SPARK_HOME\"] = '/content/spark-3.5.0-bin-hadoop3'"
      ],
      "metadata": {
        "id": "PrMhTkP5WH64"
      },
      "execution_count": 6,
      "outputs": []
    },
    {
      "cell_type": "code",
      "source": [
        "# Install library for finding Spark\n",
        "!pip install -q findspark\n",
        "\n",
        "# Import the library\n",
        "import findspark\n",
        "\n",
        "# Initiate findspark\n",
        "findspark.init()\n",
        "\n",
        "# Check the location for Spark\n",
        "findspark.find()"
      ],
      "metadata": {
        "colab": {
          "base_uri": "https://localhost:8080/",
          "height": 36
        },
        "id": "XqcJrEc8Wg3m",
        "outputId": "276dd9cd-0102-4a9b-e3f3-dde33f27b2db"
      },
      "execution_count": 7,
      "outputs": [
        {
          "output_type": "execute_result",
          "data": {
            "text/plain": [
              "'/content/spark-3.5.0-bin-hadoop3'"
            ],
            "application/vnd.google.colaboratory.intrinsic+json": {
              "type": "string"
            }
          },
          "metadata": {},
          "execution_count": 7
        }
      ]
    },
    {
      "cell_type": "code",
      "source": [
        "# Import SparkSession\n",
        "from pyspark.sql import SparkSession\n",
        "\n",
        "# Create a Spark Session\n",
        "spark = SparkSession.builder.master(\"local[*]\").getOrCreate()\n",
        "# Check  Spark Session Information\n",
        "spark\n",
        "\n"
      ],
      "metadata": {
        "colab": {
          "base_uri": "https://localhost:8080/",
          "height": 222
        },
        "id": "cTCt0rlNW4_Q",
        "outputId": "76f56853-a66d-4ea5-d6db-98f4642deab7"
      },
      "execution_count": 8,
      "outputs": [
        {
          "output_type": "execute_result",
          "data": {
            "text/plain": [
              "<pyspark.sql.session.SparkSession at 0x7f9a3f319780>"
            ],
            "text/html": [
              "\n",
              "            <div>\n",
              "                <p><b>SparkSession - in-memory</b></p>\n",
              "                \n",
              "        <div>\n",
              "            <p><b>SparkContext</b></p>\n",
              "\n",
              "            <p><a href=\"http://e301b3fb1a6a:4040\">Spark UI</a></p>\n",
              "\n",
              "            <dl>\n",
              "              <dt>Version</dt>\n",
              "                <dd><code>v3.5.0</code></dd>\n",
              "              <dt>Master</dt>\n",
              "                <dd><code>local[*]</code></dd>\n",
              "              <dt>AppName</dt>\n",
              "                <dd><code>pyspark-shell</code></dd>\n",
              "            </dl>\n",
              "        </div>\n",
              "        \n",
              "            </div>\n",
              "        "
            ]
          },
          "metadata": {},
          "execution_count": 8
        }
      ]
    },
    {
      "cell_type": "code",
      "source": [
        "from pyspark.sql import SparkSession\n",
        "from pyspark.ml.feature import StringIndexer, VectorAssembler\n",
        "from pyspark.ml import Pipeline\n",
        "from pyspark.ml.classification import LogisticRegression, DecisionTreeClassifier\n",
        "from pyspark.ml.evaluation import BinaryClassificationEvaluator\n",
        "import numpy as np\n",
        "from pyspark.sql.functions import col\n",
        "from pyspark.ml.evaluation import MulticlassClassificationEvaluator\n",
        "from pyspark.ml.feature import QuantileDiscretizer"
      ],
      "metadata": {
        "id": "fQjRlv5eYL4U"
      },
      "execution_count": 29,
      "outputs": []
    },
    {
      "cell_type": "code",
      "source": [
        "# Create Spark Session\n",
        "\n",
        "spark = SparkSession \\\n",
        "    .builder \\\n",
        "    .appName(\"Spark ML Titanic Classifier\") \\\n",
        "    .getOrCreate()"
      ],
      "metadata": {
        "id": "OI70bdWMY2mO"
      },
      "execution_count": 10,
      "outputs": []
    },
    {
      "cell_type": "code",
      "source": [
        "# Load training data\n",
        "train_data = spark.read.csv(\"titanic_train.csv\", header=True, inferSchema=True)\n",
        "\n",
        "# Load testing data\n",
        "test_data = spark.read.csv(\"titanic_test.csv\", header=True, inferSchema=True)\n",
        "\n",
        "# OR\n",
        "\n",
        "# test_data = \"<insert vm path to dataset>\"\n",
        "# train_data = \"<insert vm path to dataset>\""
      ],
      "metadata": {
        "id": "lU6cUVasY5TT"
      },
      "execution_count": 11,
      "outputs": []
    },
    {
      "cell_type": "code",
      "source": [
        "train_data.describe()"
      ],
      "metadata": {
        "colab": {
          "base_uri": "https://localhost:8080/"
        },
        "id": "zuIDZlMBRDXW",
        "outputId": "d08c844a-b5fc-4d9e-ef42-36a6295b6fa1"
      },
      "execution_count": 12,
      "outputs": [
        {
          "output_type": "execute_result",
          "data": {
            "text/plain": [
              "DataFrame[summary: string, PassengerId: string, Survived: string, Pclass: string, Name: string, Sex: string, Age: string, SibSp: string, Parch: string, Ticket: string, Fare: string, Cabin: string, Embarked: string]"
            ]
          },
          "metadata": {},
          "execution_count": 12
        }
      ]
    },
    {
      "cell_type": "code",
      "source": [
        "train_data.head(10)"
      ],
      "metadata": {
        "colab": {
          "base_uri": "https://localhost:8080/"
        },
        "id": "y7Jgk3qORHjA",
        "outputId": "cbb650ba-6229-4221-b6b0-b832dc15b971"
      },
      "execution_count": 13,
      "outputs": [
        {
          "output_type": "execute_result",
          "data": {
            "text/plain": [
              "[Row(PassengerId=1, Survived=0, Pclass=3, Name='Braund, Mr. Owen Harris', Sex='male', Age=22.0, SibSp=1, Parch=0, Ticket='A/5 21171', Fare=7.25, Cabin=None, Embarked='S'),\n",
              " Row(PassengerId=2, Survived=1, Pclass=1, Name='Cumings, Mrs. John Bradley (Florence Briggs Thayer)', Sex='female', Age=38.0, SibSp=1, Parch=0, Ticket='PC 17599', Fare=71.2833, Cabin='C85', Embarked='C'),\n",
              " Row(PassengerId=3, Survived=1, Pclass=3, Name='Heikkinen, Miss. Laina', Sex='female', Age=26.0, SibSp=0, Parch=0, Ticket='STON/O2. 3101282', Fare=7.925, Cabin=None, Embarked='S'),\n",
              " Row(PassengerId=4, Survived=1, Pclass=1, Name='Futrelle, Mrs. Jacques Heath (Lily May Peel)', Sex='female', Age=35.0, SibSp=1, Parch=0, Ticket='113803', Fare=53.1, Cabin='C123', Embarked='S'),\n",
              " Row(PassengerId=5, Survived=0, Pclass=3, Name='Allen, Mr. William Henry', Sex='male', Age=35.0, SibSp=0, Parch=0, Ticket='373450', Fare=8.05, Cabin=None, Embarked='S'),\n",
              " Row(PassengerId=6, Survived=0, Pclass=3, Name='Moran, Mr. James', Sex='male', Age=None, SibSp=0, Parch=0, Ticket='330877', Fare=8.4583, Cabin=None, Embarked='Q'),\n",
              " Row(PassengerId=7, Survived=0, Pclass=1, Name='McCarthy, Mr. Timothy J', Sex='male', Age=54.0, SibSp=0, Parch=0, Ticket='17463', Fare=51.8625, Cabin='E46', Embarked='S'),\n",
              " Row(PassengerId=8, Survived=0, Pclass=3, Name='Palsson, Master. Gosta Leonard', Sex='male', Age=2.0, SibSp=3, Parch=1, Ticket='349909', Fare=21.075, Cabin=None, Embarked='S'),\n",
              " Row(PassengerId=9, Survived=1, Pclass=3, Name='Johnson, Mrs. Oscar W (Elisabeth Vilhelmina Berg)', Sex='female', Age=27.0, SibSp=0, Parch=2, Ticket='347742', Fare=11.1333, Cabin=None, Embarked='S'),\n",
              " Row(PassengerId=10, Survived=1, Pclass=2, Name='Nasser, Mrs. Nicholas (Adele Achem)', Sex='female', Age=14.0, SibSp=1, Parch=0, Ticket='237736', Fare=30.0708, Cabin=None, Embarked='C')]"
            ]
          },
          "metadata": {},
          "execution_count": 13
        }
      ]
    },
    {
      "cell_type": "code",
      "source": [
        "train_data.limit(10).show()"
      ],
      "metadata": {
        "colab": {
          "base_uri": "https://localhost:8080/"
        },
        "id": "zGijsvBlRVzA",
        "outputId": "0e397b19-61d2-4332-9f27-44042d0a3588"
      },
      "execution_count": 14,
      "outputs": [
        {
          "output_type": "stream",
          "name": "stdout",
          "text": [
            "+-----------+--------+------+--------------------+------+----+-----+-----+----------------+-------+-----+--------+\n",
            "|PassengerId|Survived|Pclass|                Name|   Sex| Age|SibSp|Parch|          Ticket|   Fare|Cabin|Embarked|\n",
            "+-----------+--------+------+--------------------+------+----+-----+-----+----------------+-------+-----+--------+\n",
            "|          1|       0|     3|Braund, Mr. Owen ...|  male|22.0|    1|    0|       A/5 21171|   7.25| NULL|       S|\n",
            "|          2|       1|     1|Cumings, Mrs. Joh...|female|38.0|    1|    0|        PC 17599|71.2833|  C85|       C|\n",
            "|          3|       1|     3|Heikkinen, Miss. ...|female|26.0|    0|    0|STON/O2. 3101282|  7.925| NULL|       S|\n",
            "|          4|       1|     1|Futrelle, Mrs. Ja...|female|35.0|    1|    0|          113803|   53.1| C123|       S|\n",
            "|          5|       0|     3|Allen, Mr. Willia...|  male|35.0|    0|    0|          373450|   8.05| NULL|       S|\n",
            "|          6|       0|     3|    Moran, Mr. James|  male|NULL|    0|    0|          330877| 8.4583| NULL|       Q|\n",
            "|          7|       0|     1|McCarthy, Mr. Tim...|  male|54.0|    0|    0|           17463|51.8625|  E46|       S|\n",
            "|          8|       0|     3|Palsson, Master. ...|  male| 2.0|    3|    1|          349909| 21.075| NULL|       S|\n",
            "|          9|       1|     3|Johnson, Mrs. Osc...|female|27.0|    0|    2|          347742|11.1333| NULL|       S|\n",
            "|         10|       1|     2|Nasser, Mrs. Nich...|female|14.0|    1|    0|          237736|30.0708| NULL|       C|\n",
            "+-----------+--------+------+--------------------+------+----+-----+-----+----------------+-------+-----+--------+\n",
            "\n"
          ]
        }
      ]
    },
    {
      "cell_type": "code",
      "source": [
        "test_data.limit(10).show()"
      ],
      "metadata": {
        "colab": {
          "base_uri": "https://localhost:8080/"
        },
        "id": "g55xTNkbe847",
        "outputId": "ed392716-3646-4f45-f172-f49a8e0d5da0"
      },
      "execution_count": 15,
      "outputs": [
        {
          "output_type": "stream",
          "name": "stdout",
          "text": [
            "+-----------+------+--------------------+------+----+-----+-----+---------+-------+-----+--------+\n",
            "|PassengerId|Pclass|                Name|   Sex| Age|SibSp|Parch|   Ticket|   Fare|Cabin|Embarked|\n",
            "+-----------+------+--------------------+------+----+-----+-----+---------+-------+-----+--------+\n",
            "|        892|     3|    Kelly, Mr. James|  male|34.5|    0|    0|   330911| 7.8292| NULL|       Q|\n",
            "|        893|     3|Wilkes, Mrs. Jame...|female|47.0|    1|    0|   363272|    7.0| NULL|       S|\n",
            "|        894|     2|Myles, Mr. Thomas...|  male|62.0|    0|    0|   240276| 9.6875| NULL|       Q|\n",
            "|        895|     3|    Wirz, Mr. Albert|  male|27.0|    0|    0|   315154| 8.6625| NULL|       S|\n",
            "|        896|     3|Hirvonen, Mrs. Al...|female|22.0|    1|    1|  3101298|12.2875| NULL|       S|\n",
            "|        897|     3|Svensson, Mr. Joh...|  male|14.0|    0|    0|     7538|  9.225| NULL|       S|\n",
            "|        898|     3|Connolly, Miss. Kate|female|30.0|    0|    0|   330972| 7.6292| NULL|       Q|\n",
            "|        899|     2|Caldwell, Mr. Alb...|  male|26.0|    1|    1|   248738|   29.0| NULL|       S|\n",
            "|        900|     3|Abrahim, Mrs. Jos...|female|18.0|    0|    0|     2657| 7.2292| NULL|       C|\n",
            "|        901|     3|Davies, Mr. John ...|  male|21.0|    2|    0|A/4 48871|  24.15| NULL|       S|\n",
            "+-----------+------+--------------------+------+----+-----+-----+---------+-------+-----+--------+\n",
            "\n"
          ]
        }
      ]
    },
    {
      "cell_type": "code",
      "source": [
        "# defined method to print feature names with null count/values\n",
        "def null_value_count(df):\n",
        "  null_columns_counts = []\n",
        "  numRows = df.count()\n",
        "  for k in df.columns:\n",
        "    nullRows = df.where(col(k).isNull()).count()\n",
        "    if(nullRows > 0):\n",
        "      temp = k,nullRows\n",
        "      null_columns_counts.append(temp)\n",
        "  return(null_columns_counts)"
      ],
      "metadata": {
        "id": "BrmDMCsKZKPv"
      },
      "execution_count": 16,
      "outputs": []
    },
    {
      "cell_type": "code",
      "source": [
        "# call of method\n",
        "null_columns_count_list = null_value_count(train_data)"
      ],
      "metadata": {
        "id": "RrhzbyBvPuw6"
      },
      "execution_count": 17,
      "outputs": []
    },
    {
      "cell_type": "code",
      "source": [
        "for feature_name, null_count in null_columns_count_list:\n",
        "    print(\"Feature:\", feature_name)\n",
        "    print(\"Null Count:\", null_count)\n",
        "    print()"
      ],
      "metadata": {
        "colab": {
          "base_uri": "https://localhost:8080/"
        },
        "id": "Wl7eEZeSQe5c",
        "outputId": "bd14594c-182d-4946-8794-02bfd47f7cde"
      },
      "execution_count": 18,
      "outputs": [
        {
          "output_type": "stream",
          "name": "stdout",
          "text": [
            "Feature: Age\n",
            "Null Count: 177\n",
            "\n",
            "Feature: Cabin\n",
            "Null Count: 687\n",
            "\n",
            "Feature: Embarked\n",
            "Null Count: 2\n",
            "\n"
          ]
        }
      ]
    },
    {
      "cell_type": "code",
      "source": [
        "# Handle missing values\n",
        "train_data = train_data.fillna(0, subset=[\"Age\"])\n",
        "test_data = test_data.fillna(0, subset=[\"Age\"])\n",
        "train_data = train_data.fillna(\"S\", subset=[\"Embarked\"])\n",
        "test_data = test_data.fillna(\"S\", subset=[\"Embarked\"])"
      ],
      "metadata": {
        "id": "TqtZXDLSZbOT"
      },
      "execution_count": 19,
      "outputs": []
    },
    {
      "cell_type": "code",
      "source": [
        "# Drop unwanted features\n",
        "train_data = train_data.drop(\"PassengerId\", \"Name\", \"Ticket\", \"Cabin\")\n",
        "test_data = train_data.drop(\"PassengerId\", \"Name\", \"Ticket\", \"Cabin\")"
      ],
      "metadata": {
        "id": "ZpqiFsuSRjfe"
      },
      "execution_count": 20,
      "outputs": []
    },
    {
      "cell_type": "code",
      "source": [
        "train_data.columns"
      ],
      "metadata": {
        "colab": {
          "base_uri": "https://localhost:8080/"
        },
        "id": "vdAnmjBNY6Go",
        "outputId": "02ca1fa0-f18a-4796-e29c-8337f1fe8a1c"
      },
      "execution_count": 21,
      "outputs": [
        {
          "output_type": "execute_result",
          "data": {
            "text/plain": [
              "['Survived', 'Pclass', 'Sex', 'Age', 'SibSp', 'Parch', 'Fare', 'Embarked']"
            ]
          },
          "metadata": {},
          "execution_count": 21
        }
      ]
    },
    {
      "cell_type": "code",
      "source": [
        "# call of method\n",
        "null_columns_count_list = null_value_count(train_data)\n"
      ],
      "metadata": {
        "id": "1VVClkyHcPf4"
      },
      "execution_count": 22,
      "outputs": []
    },
    {
      "cell_type": "code",
      "source": [
        "for feature_name, null_count in null_columns_count_list:\n",
        "    print(\"Feature:\", feature_name)\n",
        "    print(\"Null Count:\", null_count)\n",
        "    print()"
      ],
      "metadata": {
        "id": "xGpwdUMZgVCE"
      },
      "execution_count": 23,
      "outputs": []
    },
    {
      "cell_type": "code",
      "source": [
        "# # Handle categorical variables\n",
        "# indexers = [StringIndexer(inputCol=col, outputCol=col+\"_index\").fit(train_data) for col in [\"Sex\", \"Embarked\"]]\n",
        "# pipeline = Pipeline(stages=indexers)\n",
        "# train_data = pipeline.fit(train_data).transform(train_data)\n",
        "# test_data = pipeline.fit(test_data).transform(test_data)\n",
        "\n",
        "# # Create feature vector\n",
        "# feature_cols = [\"Pclass\", \"Sex_index\", \"Age\", \"SibSp\", \"Parch\", \"Fare\", \"Embarked_index\"]\n",
        "# assembler = VectorAssembler(inputCols=feature_cols, outputCol=\"features\")\n",
        "# train_data = assembler.transform(train_data)\n",
        "# test_data = assembler.transform(test_data)\n",
        "\n",
        "# # Select relevant columns\n",
        "# train_data = train_data.select(\"Survived\", \"features\")\n",
        "# test_data = test_data.select(\"features\")"
      ],
      "metadata": {
        "id": "4CUHaxLGQz_v"
      },
      "execution_count": 24,
      "outputs": []
    },
    {
      "cell_type": "code",
      "source": [
        "# Handle categorical variables\n",
        "indexers_train = [StringIndexer(inputCol=column, outputCol=column+\"_index\").fit(train_data) for column in [\"Sex\", \"Embarked\"]]\n",
        "pipeline_train = Pipeline(stages=indexers_train)\n",
        "indexers_test = [StringIndexer(inputCol=column, outputCol=column+\"_index\").fit(test_data) for column in [\"Sex\", \"Embarked\"]]\n",
        "pipeline_test = Pipeline(stages=indexers_test)\n",
        "train_data = pipeline_train.fit(train_data).transform(train_data)\n",
        "test_data = pipeline_test.fit(test_data).transform(test_data)\n",
        "\n",
        "# Create feature vector\n",
        "feature_cols = [\"Pclass\", \"Sex_index\", \"Age\", \"SibSp\", \"Parch\", \"Fare\", \"Embarked_index\"]\n",
        "#assembler = VectorAssembler(inputCols=feature_cols, outputCol=\"features\")\n",
        "assembler = VectorAssembler(inputCols=feature_cols,outputCol=\"features\")\n",
        "train_data = assembler.transform(train_data)\n",
        "test_data = assembler.transform(test_data)\n",
        "\n",
        "# Select relevant columns\n",
        "# train_data = train_data.select(\"Survived\", \"features\")\n",
        "# test_data = test_data.select(\"features\")"
      ],
      "metadata": {
        "id": "6akornFIaMaL"
      },
      "execution_count": 25,
      "outputs": []
    },
    {
      "cell_type": "code",
      "source": [
        "train_data.show()"
      ],
      "metadata": {
        "colab": {
          "base_uri": "https://localhost:8080/"
        },
        "id": "wSuRwGbERnyP",
        "outputId": "1c80ebd5-b6a8-47b3-fdae-b3aec25a0a2a"
      },
      "execution_count": 26,
      "outputs": [
        {
          "output_type": "stream",
          "name": "stdout",
          "text": [
            "+--------+------+------+----+-----+-----+-------+--------+---------+--------------+--------------------+\n",
            "|Survived|Pclass|   Sex| Age|SibSp|Parch|   Fare|Embarked|Sex_index|Embarked_index|            features|\n",
            "+--------+------+------+----+-----+-----+-------+--------+---------+--------------+--------------------+\n",
            "|       0|     3|  male|22.0|    1|    0|   7.25|       S|      0.0|           0.0|[3.0,0.0,22.0,1.0...|\n",
            "|       1|     1|female|38.0|    1|    0|71.2833|       C|      1.0|           1.0|[1.0,1.0,38.0,1.0...|\n",
            "|       1|     3|female|26.0|    0|    0|  7.925|       S|      1.0|           0.0|[3.0,1.0,26.0,0.0...|\n",
            "|       1|     1|female|35.0|    1|    0|   53.1|       S|      1.0|           0.0|[1.0,1.0,35.0,1.0...|\n",
            "|       0|     3|  male|35.0|    0|    0|   8.05|       S|      0.0|           0.0|(7,[0,2,5],[3.0,3...|\n",
            "|       0|     3|  male| 0.0|    0|    0| 8.4583|       Q|      0.0|           2.0|(7,[0,5,6],[3.0,8...|\n",
            "|       0|     1|  male|54.0|    0|    0|51.8625|       S|      0.0|           0.0|(7,[0,2,5],[1.0,5...|\n",
            "|       0|     3|  male| 2.0|    3|    1| 21.075|       S|      0.0|           0.0|[3.0,0.0,2.0,3.0,...|\n",
            "|       1|     3|female|27.0|    0|    2|11.1333|       S|      1.0|           0.0|[3.0,1.0,27.0,0.0...|\n",
            "|       1|     2|female|14.0|    1|    0|30.0708|       C|      1.0|           1.0|[2.0,1.0,14.0,1.0...|\n",
            "|       1|     3|female| 4.0|    1|    1|   16.7|       S|      1.0|           0.0|[3.0,1.0,4.0,1.0,...|\n",
            "|       1|     1|female|58.0|    0|    0|  26.55|       S|      1.0|           0.0|[1.0,1.0,58.0,0.0...|\n",
            "|       0|     3|  male|20.0|    0|    0|   8.05|       S|      0.0|           0.0|(7,[0,2,5],[3.0,2...|\n",
            "|       0|     3|  male|39.0|    1|    5| 31.275|       S|      0.0|           0.0|[3.0,0.0,39.0,1.0...|\n",
            "|       0|     3|female|14.0|    0|    0| 7.8542|       S|      1.0|           0.0|[3.0,1.0,14.0,0.0...|\n",
            "|       1|     2|female|55.0|    0|    0|   16.0|       S|      1.0|           0.0|[2.0,1.0,55.0,0.0...|\n",
            "|       0|     3|  male| 2.0|    4|    1| 29.125|       Q|      0.0|           2.0|[3.0,0.0,2.0,4.0,...|\n",
            "|       1|     2|  male| 0.0|    0|    0|   13.0|       S|      0.0|           0.0|(7,[0,5],[2.0,13.0])|\n",
            "|       0|     3|female|31.0|    1|    0|   18.0|       S|      1.0|           0.0|[3.0,1.0,31.0,1.0...|\n",
            "|       1|     3|female| 0.0|    0|    0|  7.225|       C|      1.0|           1.0|[3.0,1.0,0.0,0.0,...|\n",
            "+--------+------+------+----+-----+-----+-------+--------+---------+--------------+--------------------+\n",
            "only showing top 20 rows\n",
            "\n"
          ]
        }
      ]
    },
    {
      "cell_type": "code",
      "source": [
        "test_data.show()"
      ],
      "metadata": {
        "colab": {
          "base_uri": "https://localhost:8080/"
        },
        "id": "ftPmGs2Rd6U3",
        "outputId": "8e72dd7e-0462-4309-e0c9-16f34ae8cb4d"
      },
      "execution_count": 27,
      "outputs": [
        {
          "output_type": "stream",
          "name": "stdout",
          "text": [
            "+--------+------+------+----+-----+-----+-------+--------+---------+--------------+--------------------+\n",
            "|Survived|Pclass|   Sex| Age|SibSp|Parch|   Fare|Embarked|Sex_index|Embarked_index|            features|\n",
            "+--------+------+------+----+-----+-----+-------+--------+---------+--------------+--------------------+\n",
            "|       0|     3|  male|22.0|    1|    0|   7.25|       S|      0.0|           0.0|[3.0,0.0,22.0,1.0...|\n",
            "|       1|     1|female|38.0|    1|    0|71.2833|       C|      1.0|           1.0|[1.0,1.0,38.0,1.0...|\n",
            "|       1|     3|female|26.0|    0|    0|  7.925|       S|      1.0|           0.0|[3.0,1.0,26.0,0.0...|\n",
            "|       1|     1|female|35.0|    1|    0|   53.1|       S|      1.0|           0.0|[1.0,1.0,35.0,1.0...|\n",
            "|       0|     3|  male|35.0|    0|    0|   8.05|       S|      0.0|           0.0|(7,[0,2,5],[3.0,3...|\n",
            "|       0|     3|  male| 0.0|    0|    0| 8.4583|       Q|      0.0|           2.0|(7,[0,5,6],[3.0,8...|\n",
            "|       0|     1|  male|54.0|    0|    0|51.8625|       S|      0.0|           0.0|(7,[0,2,5],[1.0,5...|\n",
            "|       0|     3|  male| 2.0|    3|    1| 21.075|       S|      0.0|           0.0|[3.0,0.0,2.0,3.0,...|\n",
            "|       1|     3|female|27.0|    0|    2|11.1333|       S|      1.0|           0.0|[3.0,1.0,27.0,0.0...|\n",
            "|       1|     2|female|14.0|    1|    0|30.0708|       C|      1.0|           1.0|[2.0,1.0,14.0,1.0...|\n",
            "|       1|     3|female| 4.0|    1|    1|   16.7|       S|      1.0|           0.0|[3.0,1.0,4.0,1.0,...|\n",
            "|       1|     1|female|58.0|    0|    0|  26.55|       S|      1.0|           0.0|[1.0,1.0,58.0,0.0...|\n",
            "|       0|     3|  male|20.0|    0|    0|   8.05|       S|      0.0|           0.0|(7,[0,2,5],[3.0,2...|\n",
            "|       0|     3|  male|39.0|    1|    5| 31.275|       S|      0.0|           0.0|[3.0,0.0,39.0,1.0...|\n",
            "|       0|     3|female|14.0|    0|    0| 7.8542|       S|      1.0|           0.0|[3.0,1.0,14.0,0.0...|\n",
            "|       1|     2|female|55.0|    0|    0|   16.0|       S|      1.0|           0.0|[2.0,1.0,55.0,0.0...|\n",
            "|       0|     3|  male| 2.0|    4|    1| 29.125|       Q|      0.0|           2.0|[3.0,0.0,2.0,4.0,...|\n",
            "|       1|     2|  male| 0.0|    0|    0|   13.0|       S|      0.0|           0.0|(7,[0,5],[2.0,13.0])|\n",
            "|       0|     3|female|31.0|    1|    0|   18.0|       S|      1.0|           0.0|[3.0,1.0,31.0,1.0...|\n",
            "|       1|     3|female| 0.0|    0|    0|  7.225|       C|      1.0|           1.0|[3.0,1.0,0.0,0.0,...|\n",
            "+--------+------+------+----+-----+-----+-------+--------+---------+--------------+--------------------+\n",
            "only showing top 20 rows\n",
            "\n"
          ]
        }
      ]
    },
    {
      "cell_type": "code",
      "source": [
        "from pyspark.ml.classification import LogisticRegression\n",
        "\n",
        "# Logistic Regression model\n",
        "lr = LogisticRegression(labelCol=\"Survived\", featuresCol=\"features\")\n",
        "model_lr = lr.fit(train_data)\n",
        "prediction_lr = model_lr.transform(test_data)\n",
        "prediction_lr.select(\"prediction\", \"Survived\", \"features\").show()\n",
        "evaluator = MulticlassClassificationEvaluator(labelCol=\"Survived\", predictionCol=\"prediction\", metricName=\"accuracy\")"
      ],
      "metadata": {
        "colab": {
          "base_uri": "https://localhost:8080/"
        },
        "id": "A5mspwfgRsKX",
        "outputId": "54df3f88-081a-496b-fa14-943c3b8c5439"
      },
      "execution_count": 30,
      "outputs": [
        {
          "output_type": "stream",
          "name": "stdout",
          "text": [
            "+----------+--------+--------------------+\n",
            "|prediction|Survived|            features|\n",
            "+----------+--------+--------------------+\n",
            "|       0.0|       0|[3.0,0.0,22.0,1.0...|\n",
            "|       1.0|       1|[1.0,1.0,38.0,1.0...|\n",
            "|       1.0|       1|[3.0,1.0,26.0,0.0...|\n",
            "|       1.0|       1|[1.0,1.0,35.0,1.0...|\n",
            "|       0.0|       0|(7,[0,2,5],[3.0,3...|\n",
            "|       0.0|       0|(7,[0,5,6],[3.0,8...|\n",
            "|       0.0|       0|(7,[0,2,5],[1.0,5...|\n",
            "|       0.0|       0|[3.0,0.0,2.0,3.0,...|\n",
            "|       1.0|       1|[3.0,1.0,27.0,0.0...|\n",
            "|       1.0|       1|[2.0,1.0,14.0,1.0...|\n",
            "|       1.0|       1|[3.0,1.0,4.0,1.0,...|\n",
            "|       1.0|       1|[1.0,1.0,58.0,0.0...|\n",
            "|       0.0|       0|(7,[0,2,5],[3.0,2...|\n",
            "|       0.0|       0|[3.0,0.0,39.0,1.0...|\n",
            "|       1.0|       0|[3.0,1.0,14.0,0.0...|\n",
            "|       1.0|       1|[2.0,1.0,55.0,0.0...|\n",
            "|       0.0|       0|[3.0,0.0,2.0,4.0,...|\n",
            "|       0.0|       1|(7,[0,5],[2.0,13.0])|\n",
            "|       1.0|       0|[3.0,1.0,31.0,1.0...|\n",
            "|       1.0|       1|[3.0,1.0,0.0,0.0,...|\n",
            "+----------+--------+--------------------+\n",
            "only showing top 20 rows\n",
            "\n"
          ]
        }
      ]
    },
    {
      "cell_type": "code",
      "source": [
        "\n",
        "accuracy_lr = evaluator.evaluate(prediction_lr)\n",
        "print(f\"Accuracy of Logistic Regression is {accuracy_lr:.3f} %\")\n",
        "print(f\"Test Error of Logistic Regression is {(1.0 - accuracy_lr):.3f} % \")"
      ],
      "metadata": {
        "colab": {
          "base_uri": "https://localhost:8080/"
        },
        "id": "_oNN0ZfSh4Ye",
        "outputId": "66aae25e-673d-4232-c2de-41090e176d9a"
      },
      "execution_count": 37,
      "outputs": [
        {
          "output_type": "stream",
          "name": "stdout",
          "text": [
            "Accuracy of LogisticRegression is 0.793 %\n",
            "Test Error of LogisticRegression is 0.207 % \n"
          ]
        }
      ]
    },
    {
      "cell_type": "code",
      "source": [
        "from pyspark.ml.classification import DecisionTreeClassifier\n",
        "\n",
        "dt = DecisionTreeClassifier(featuresCol=\"features\", labelCol=\"Survived\", maxDepth=5)\n",
        "model_dt = dt.fit(train_data)\n",
        "prediction_dt = model_dt.transform(test_data)\n",
        "prediction_dt.select(\"prediction\", \"Survived\", \"features\").show()\n"
      ],
      "metadata": {
        "colab": {
          "base_uri": "https://localhost:8080/"
        },
        "id": "cYnCspSViGNS",
        "outputId": "fe324966-0ed7-488f-df5b-03e7a2387953"
      },
      "execution_count": 32,
      "outputs": [
        {
          "output_type": "stream",
          "name": "stdout",
          "text": [
            "+----------+--------+--------------------+\n",
            "|prediction|Survived|            features|\n",
            "+----------+--------+--------------------+\n",
            "|       0.0|       0|[3.0,0.0,22.0,1.0...|\n",
            "|       1.0|       1|[1.0,1.0,38.0,1.0...|\n",
            "|       0.0|       1|[3.0,1.0,26.0,0.0...|\n",
            "|       1.0|       1|[1.0,1.0,35.0,1.0...|\n",
            "|       0.0|       0|(7,[0,2,5],[3.0,3...|\n",
            "|       0.0|       0|(7,[0,5,6],[3.0,8...|\n",
            "|       0.0|       0|(7,[0,2,5],[1.0,5...|\n",
            "|       0.0|       0|[3.0,0.0,2.0,3.0,...|\n",
            "|       0.0|       1|[3.0,1.0,27.0,0.0...|\n",
            "|       1.0|       1|[2.0,1.0,14.0,1.0...|\n",
            "|       1.0|       1|[3.0,1.0,4.0,1.0,...|\n",
            "|       1.0|       1|[1.0,1.0,58.0,0.0...|\n",
            "|       0.0|       0|(7,[0,2,5],[3.0,2...|\n",
            "|       0.0|       0|[3.0,0.0,39.0,1.0...|\n",
            "|       0.0|       0|[3.0,1.0,14.0,0.0...|\n",
            "|       1.0|       1|[2.0,1.0,55.0,0.0...|\n",
            "|       0.0|       0|[3.0,0.0,2.0,4.0,...|\n",
            "|       0.0|       1|(7,[0,5],[2.0,13.0])|\n",
            "|       0.0|       0|[3.0,1.0,31.0,1.0...|\n",
            "|       1.0|       1|[3.0,1.0,0.0,0.0,...|\n",
            "+----------+--------+--------------------+\n",
            "only showing top 20 rows\n",
            "\n"
          ]
        }
      ]
    },
    {
      "cell_type": "code",
      "source": [
        "accuracy_dt = evaluator.evaluate(prediction_dt)\n",
        "print(f\"Accuracy of DecisionTree Classifier is {accuracy_dt:.3f} %\")\n",
        "print(f\"Test Error of DecisionTree Classifier is {(1.0 - accuracy_dt):.3f} % \")\n"
      ],
      "metadata": {
        "colab": {
          "base_uri": "https://localhost:8080/"
        },
        "id": "U1DkPkrjiWPp",
        "outputId": "672c8953-4af5-43d0-e798-d34e000aee16"
      },
      "execution_count": 38,
      "outputs": [
        {
          "output_type": "stream",
          "name": "stdout",
          "text": [
            "Accuracy of DecisionTree Classifier is 0.846 %\n",
            "Test Error of DecisionTree Classifier is 0.154 % \n"
          ]
        }
      ]
    },
    {
      "cell_type": "code",
      "source": [
        "# # Model Evaluation for Logistic Regression\n",
        "# predictions_lr = model_lr.transform(test_data)\n",
        "# evaluator_lr = BinaryClassificationEvaluator(labelCol=\"Survived\", metricName=\"areaUnderROC\")\n",
        "# auc_lr = evaluator_lr.evaluate(predictions_lr)\n",
        "# print(\"Logistic Regression Area under ROC = \", auc_lr)\n",
        "\n"
      ],
      "metadata": {
        "id": "khRQj4JDRy-G"
      },
      "execution_count": null,
      "outputs": []
    },
    {
      "cell_type": "code",
      "source": [
        "# # Model Evaluation for Decision Tree\n",
        "# predictions_dt = model_dt.transform(test_data)\n",
        "# evaluator_dt = BinaryClassificationEvaluator(labelCol=\"Survived\", metricName=\"areaUnderROC\")\n",
        "# auc_dt = evaluator_dt.evaluate(predictions_dt)\n",
        "# print(\"Decision Tree Area under ROC = \", auc_dt)"
      ],
      "metadata": {
        "id": "kiVG0DFAdFVU"
      },
      "execution_count": null,
      "outputs": []
    },
    {
      "cell_type": "code",
      "source": [],
      "metadata": {
        "id": "R3HfA0a-SW-H"
      },
      "execution_count": null,
      "outputs": []
    }
  ]
}